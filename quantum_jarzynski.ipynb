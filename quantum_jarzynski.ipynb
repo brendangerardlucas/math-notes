{
 "cells": [
  {
   "cell_type": "markdown",
   "id": "d142cf8e-aadb-46a6-a418-09705b20dd17",
   "metadata": {},
   "source": [
    "# Computing the Jarzynski Relation in Quantum Mechanics"
   ]
  },
  {
   "cell_type": "code",
   "execution_count": 1,
   "id": "07c029c6-7bf9-4e1d-84be-e3f89e6ea30d",
   "metadata": {},
   "outputs": [],
   "source": [
    "import numpy as np\n",
    "from scipy.linalg import expm, logm\n",
    "from matplotlib import pyplot as plt"
   ]
  },
  {
   "cell_type": "markdown",
   "id": "bd389fe0-b223-4135-80ee-2ba6acad7247",
   "metadata": {},
   "source": [
    "# Encoding the Theory"
   ]
  },
  {
   "cell_type": "code",
   "execution_count": 2,
   "id": "acdd9b74-c324-459e-bc3e-e765ac41a896",
   "metadata": {},
   "outputs": [],
   "source": [
    "#Assuming hbar=1\n",
    "S_z = np.array([[1, 0], # Spin operator in the z basis\n",
    "                [0, -1]])\n",
    "S_x = np.array([[0, 1], # Spin operator in the x basis\n",
    "                [1, 0]])\n",
    "S_y = np.array([[0, -1j], # Spin operator in the y basis\n",
    "                [1j, 0]])"
   ]
  },
  {
   "cell_type": "code",
   "execution_count": 3,
   "id": "0f1b337c-d3dc-4ac6-9668-575bca4b6ef5",
   "metadata": {},
   "outputs": [],
   "source": [
    "def random_state(rho, H):\n",
    "    # Given a density matrix rho and a Hamiltonian H,\n",
    "    # Select an eigenstate for the system to be found in\n",
    "    probabilities = np.diag(rho).real\n",
    "    _, eigenvectors = np.linalg.eig(H)\n",
    "    state_indices = [0, 1]\n",
    "    chosen_index = np.random.choice(state_indices, p=probabilities)\n",
    "    return eigenvectors[:, chosen_index]\n",
    "    \n",
    "def time_dependent_hamiltonian(t, tau, H_0, H_f):\n",
    "    # t is the instantaneous time, and tau is the duration\n",
    "    # This is a function for the Hamiltonian over time\n",
    "    return (1-t/tau)*H_0 + (t/tau)*H_f\n",
    "\n",
    "def unitary_operator(H, t):\n",
    "    # This formula returns the unitary time-evolution operator at each point in time\n",
    "    # That is the solution to the time-dependent Schrodinger equation with H constant\n",
    "    # Although the Hamiltonian changes over time, we model it as constant within each dt step\n",
    "    return expm(-1j * H * t)\n",
    "\n",
    "def evolve(initial_state, U_series):\n",
    "    # Evolve an initial state over time \n",
    "    current_state = initial_state\n",
    "    for U in U_series:\n",
    "        current_state = U @ current_state\n",
    "    return current_state\n",
    "\n",
    "def energy_measure(state_vector, H):\n",
    "\n",
    "    # Performs an energy measurement of the state vector\n",
    "\n",
    "    probabilities = []\n",
    "    eigenvalues, eigenvectors = np.linalg.eig(H)\n",
    "\n",
    "    for i in range(len(eigenvalues)):\n",
    "\n",
    "        eigenvector_ket = eigenvectors[:, i]\n",
    "        eigenvector_bra = eigenvector_ket.T.conj()\n",
    "\n",
    "        # The probability amplitudes are this inner product\n",
    "        amplitude = eigenvector_bra.dot(state_vector)\n",
    "\n",
    "        # The Born rule\n",
    "        probability = np.abs(amplitude)**2\n",
    "        \n",
    "        probabilities.append(probability)\n",
    "\n",
    "    state_indices = range(len(eigenvalues))\n",
    "\n",
    "    chosen_index = np.random.choice(state_indices, p=np.array(probabilities))\n",
    "\n",
    "    return eigenvalues[chosen_index] "
   ]
  },
  {
   "cell_type": "markdown",
   "id": "9c9fb997-3c2f-47a8-8aa2-d4882df0b610",
   "metadata": {},
   "source": [
    "# Encoding the inputs"
   ]
  },
  {
   "cell_type": "code",
   "execution_count": 4,
   "id": "377d95aa-1c08-40aa-9156-a4a8affac799",
   "metadata": {},
   "outputs": [],
   "source": [
    "# A spin-1/2 system has its initial state in a freezer with a magnetic field in the z-direction\n",
    "# Then, the system's final state is measured by a magnetic field in the x-direction\n",
    "# The code can be adjusted so that the magnetic field is in the y-direction\n",
    "\n",
    "# Larmor frequency of the spin placed in the magnetic field\n",
    "omega_0 = 1 # Proportional to the strength of the magnetic field\n",
    "\n",
    "# The initial Hamiltonian is for measuring spin in the z-direction\n",
    "H_0 = omega_0/2 * S_z \n",
    "\n",
    "# The final Hamiltonian is for measuring spin in the x-direction\n",
    "H_f = omega_0/2 * S_x\n",
    "\n",
    "# Assume k_B = 1\n",
    "beta = 1 # Inverse temperature\n",
    "\n",
    "# Boltzmann operator\n",
    "boltzmann_initial = expm(-beta * H_0)\n",
    "\n",
    "# Partition function\n",
    "Z_0 = np.trace(boltzmann_initial)\n",
    "\n",
    "# Initial density matrix\n",
    "rho_0 = boltzmann_initial / Z_0\n",
    "\n",
    "# Boltzmann operator\n",
    "boltzmann_final = expm(-beta * H_f)\n",
    "\n",
    "# Partition function\n",
    "Z_f = np.trace(boltzmann_final)\n",
    "\n",
    "# Initial density matrix\n",
    "rho_f = boltzmann_final / Z_f\n",
    "\n",
    "# Duration\n",
    "tau = 1\n",
    "\n",
    "# Here are 1000 dt timeslices\n",
    "t_series = np.linspace(0, tau, 1000)\n",
    "dt = t_series[1]-t_series[0]"
   ]
  },
  {
   "cell_type": "markdown",
   "id": "2c93cc0b-71ad-422b-8d3d-cadf48f63b69",
   "metadata": {},
   "source": [
    "# Calculating Free Energy Difference"
   ]
  },
  {
   "cell_type": "code",
   "execution_count": 5,
   "id": "a841594b-a4a7-435e-bfae-fefbb529f22f",
   "metadata": {},
   "outputs": [],
   "source": [
    "# Basic function to compute von Neumann entropy\n",
    "entropy_vn = lambda rho: -np.trace(rho @ logm(rho))\n",
    "expectation_value = lambda rho, A: np.trace(rho @ A)\n",
    "\n",
    "entropy_initial = entropy_vn(rho_0)\n",
    "entropy_final = entropy_vn(rho_f)\n",
    "\n",
    "exected_energy_initial = expectation_value(rho_0, H_0)\n",
    "exected_energy_final = expectation_value(rho_f, H_f)\n",
    "\n",
    "# Free energy is F = E - TS\n",
    "# We consider k_b = 1 to T = 1/beta\n",
    "T = 1/beta\n",
    "\n",
    "# Calculate the difference in free energy delta_F\n",
    "F_0 = exected_energy_initial - T * entropy_initial\n",
    "F_f = exected_energy_final - T * entropy_final\n",
    "delta_F = F_f - F_0"
   ]
  },
  {
   "cell_type": "markdown",
   "id": "2f3f09c9-b4b3-4b90-9c44-6704158fb5d3",
   "metadata": {},
   "source": [
    "# Performing one work calculation with two measurements"
   ]
  },
  {
   "cell_type": "code",
   "execution_count": 7,
   "id": "6b233dc1-b756-416c-9cd8-1599a13b8a9d",
   "metadata": {},
   "outputs": [
    {
     "name": "stdout",
     "output_type": "stream",
     "text": [
      "1.0\n"
     ]
    }
   ],
   "source": [
    "# Here we compute 1000 steps of the Hamiltonian and unitary operator changing over time\n",
    "H_series = np.array([time_dependent_hamiltonian(t, tau, H_0, H_f) for t in t_series])\n",
    "U_series = np.array([unitary_operator(H, dt) for H in H_series])\n",
    "def one_work_sample(t_series, tau, H_0, H_f, rho_0, U_series):\n",
    "    \n",
    "    initial_state = random_state(rho_0, H_0)\n",
    "    final_state = evolve(initial_state, U_series)\n",
    "    initial_energy = energy_measure(initial_state, H_0)\n",
    "    final_energy = energy_measure(final_state, H_f)\n",
    "    work = final_energy-initial_energy\n",
    "    \n",
    "    return(work)\n",
    "print(np.round(one_work_sample(t_series, tau, H_0, H_f, rho_0, U_series)))"
   ]
  },
  {
   "cell_type": "markdown",
   "id": "9a799d86-9816-463a-8c9c-213731eb5f1b",
   "metadata": {},
   "source": [
    "# Sampling two-measurement work calculations "
   ]
  },
  {
   "cell_type": "code",
   "execution_count": 10,
   "id": "7f56e2d8-e230-4ca7-ad77-a10a7386368c",
   "metadata": {},
   "outputs": [],
   "source": [
    "np.random.seed(1)\n",
    "sample_size = 1000\n",
    "work_samples = np.round([one_work_sample(t_series, tau, H_0, H_f, rho_0, U_series) for each in range(sample_size)])"
   ]
  },
  {
   "cell_type": "code",
   "execution_count": 11,
   "id": "625f4052-ee1e-4b8e-b04e-e247000aa683",
   "metadata": {},
   "outputs": [
    {
     "data": {
      "image/png": "[encoded data removed]",
      "text/plain": [
       "<Figure size 640x480 with 1 Axes>"
      ]
     },
     "metadata": {},
     "output_type": "display_data"
    }
   ],
   "source": [
    "bin_edges = [-1.5, -0.5, 0.5, 1.5]\n",
    "plt.hist(work_samples, bins=bin_edges, edgecolor='black', density=True, )\n",
    "plt.title('Two-time measurement scheme work samples')\n",
    "plt.xticks([-1, 0, 1])\n",
    "plt.xlabel('Measured Work')\n",
    "plt.ylabel('Frequency of Measurement')\n",
    "plt.show()"
   ]
  },
  {
   "cell_type": "markdown",
   "id": "754e56e0-f853-4f2b-86f3-89c0a9710f39",
   "metadata": {},
   "source": [
    "# Computing the Jarzynski equality"
   ]
  },
  {
   "cell_type": "code",
   "execution_count": 13,
   "id": "b73feadd-eb49-4cbd-8f61-7e646db60aa6",
   "metadata": {},
   "outputs": [
    {
     "name": "stdout",
     "output_type": "stream",
     "text": [
      "<e^{-βW}> =  0.996881715609555\n",
      "e^{-βΔF} =  1.0\n"
     ]
    }
   ],
   "source": [
    "print('<e^{-βW}> = ', np.mean(np.exp(-beta*work_samples)))\n",
    "print('e^{-βΔF} = ', np.exp(-beta * delta_F))"
   ]
  },
  {
   "cell_type": "markdown",
   "id": "05cb49c2-8b70-4661-ae11-85fbbf95a41e",
   "metadata": {},
   "source": [
    "We have computed $\\overline{e^{-\\beta W}} = 0.997$ and $e^{-\\beta\\Delta F}=1$, which is close enough to say we have demonstrated the Jarzynski relation in quantum mechanics."
   ]
  }
 ],
 "metadata": {
  "kernelspec": {
   "display_name": "Python 3 (ipykernel)",
   "language": "python",
   "name": "python3"
  },
  "language_info": {
   "codemirror_mode": {
    "name": "ipython",
    "version": 3
   },
   "file_extension": ".py",
   "mimetype": "text/x-python",
   "name": "python",
   "nbconvert_exporter": "python",
   "pygments_lexer": "ipython3",
   "version": "3.13.3"
  }
 },
 "nbformat": 4,
 "nbformat_minor": 5
}
